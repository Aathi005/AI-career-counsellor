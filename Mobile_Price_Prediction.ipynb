{
  "nbformat": 4,
  "nbformat_minor": 0,
  "metadata": {
    "colab": {
      "provenance": [],
      "authorship_tag": "ABX9TyMXjAIE8YNjX3qvUF8BDBdB",
      "include_colab_link": true
    },
    "kernelspec": {
      "name": "python3",
      "display_name": "Python 3"
    },
    "language_info": {
      "name": "python"
    }
  },
  "cells": [
    {
      "cell_type": "markdown",
      "metadata": {
        "id": "view-in-github",
        "colab_type": "text"
      },
      "source": [
        "<a href=\"https://colab.research.google.com/github/Aathi005/AI-career-counsellor/blob/main/Mobile_Price_Prediction.ipynb\" target=\"_parent\"><img src=\"https://colab.research.google.com/assets/colab-badge.svg\" alt=\"Open In Colab\"/></a>"
      ]
    },
    {
      "cell_type": "code",
      "source": [
        "#Load_Necessary_data\n",
        "\n",
        "import pandas as pd\n",
        "from sklearn.model_selection import train_test_split\n",
        "from sklearn.svm import SVC\n",
        "from sklearn.preprocessing import StandardScaler\n",
        "from sklearn.metrics import accuracy_score, confusion_matrix, classification_report\n",
        "\n",
        "df = pd.read_csv(\"/mobile data set - mobile data set.csv\")\n",
        "\n"
      ],
      "metadata": {
        "id": "CL2yLVstfYaL"
      },
      "execution_count": null,
      "outputs": []
    },
    {
      "cell_type": "code",
      "source": [
        "from google.colab import drive\n",
        "drive.mount('/content/drive')"
      ],
      "metadata": {
        "id": "b5leiRCp2aIT"
      },
      "execution_count": null,
      "outputs": []
    },
    {
      "cell_type": "code",
      "source": [
        "#Pre_Processing\n",
        "\n",
        "X = df.drop(\"price_range\", axis=1)\n",
        "y = df[\"price_range\"]\n",
        "\n",
        "scaler = StandardScaler()\n",
        "X_scaled = scaler.fit_transform(X)\n",
        "\n",
        "X_train, X_test, y_train, y_test = train_test_split(X_scaled, y, test_size=0.2, random_state=42)\n"
      ],
      "metadata": {
        "id": "fWirsfGOfYUH"
      },
      "execution_count": null,
      "outputs": []
    },
    {
      "cell_type": "code",
      "source": [
        "#Model_Training\n",
        "\n",
        "model = SVC(kernel='rbf', C=1.0, gamma='scale')\n",
        "model.fit(X_train, y_train)\n",
        "\n",
        "y_pred = model.predict(X_test)\n",
        "print(\"Accuracy:\", round(accuracy_score(y_test, y_pred) * 100, 2), \"%\")\n",
        "print(\"\\n Classification Report:\\n\", classification_report(y_test, y_pred))\n",
        "print(\"\\n Confusion Matrix:\\n\", confusion_matrix(y_test, y_pred))\n",
        "print(\"\\n Enter mobile features to predict its price range:\")\n",
        "battery_power = float(input(\"Battery Power (mAh): \"))\n",
        "blue = int(input(\"Bluetooth (1: Yes, 0: No): \"))\n",
        "clock_speed = float(input(\"Clock Speed (GHz): \"))\n",
        "dual_sim = int(input(\"Dual SIM (1: Yes, 0: No): \"))\n",
        "fc = int(input(\"Front Camera (MP): \"))\n",
        "four_g = int(input(\"4G Support (1: Yes, 0: No): \"))\n",
        "int_memory = int(input(\"Internal Memory (GB): \"))\n",
        "m_dep = float(input(\"Mobile Depth (cm): \"))\n",
        "mobile_wt = int(input(\"Mobile Weight (g): \"))\n",
        "n_cores = int(input(\"No. of CPU Cores: \"))\n",
        "pc = int(input(\"Primary Camera (MP): \"))\n",
        "px_height = int(input(\"Pixel Height: \"))\n",
        "px_width = int(input(\"Pixel Width: \"))\n",
        "ram = int(input(\"RAM (MB): \"))\n",
        "sc_h = int(input(\"Screen Height (cm): \"))\n",
        "sc_w = int(input(\"Screen Width (cm): \"))\n",
        "talk_time = int(input(\"Talk Time (hrs): \"))\n",
        "three_g = int(input(\"3G Support (1: Yes, 0: No): \"))\n",
        "touch_screen = int(input(\"Touch Screen (1: Yes, 0: No): \"))\n",
        "wifi = int(input(\"WiFi Support (1: Yes, 0: No): \"))"
      ],
      "metadata": {
        "colab": {
          "base_uri": "https://localhost:8080/"
        },
        "id": "LKlB-vAXfYRF",
        "outputId": "37c3dc60-866a-4890-c75e-5c4edccc2783"
      },
      "execution_count": null,
      "outputs": [
        {
          "name": "stdout",
          "output_type": "stream",
          "text": [
            "Accuracy: 89.25 %\n",
            "\n",
            " Classification Report:\n",
            "               precision    recall  f1-score   support\n",
            "\n",
            "           0       0.95      0.93      0.94       105\n",
            "           1       0.80      0.89      0.84        91\n",
            "           2       0.84      0.82      0.83        92\n",
            "           3       0.96      0.92      0.94       112\n",
            "\n",
            "    accuracy                           0.89       400\n",
            "   macro avg       0.89      0.89      0.89       400\n",
            "weighted avg       0.90      0.89      0.89       400\n",
            "\n",
            "\n",
            " Confusion Matrix:\n",
            " [[ 98   7   0   0]\n",
            " [  5  81   5   0]\n",
            " [  0  13  75   4]\n",
            " [  0   0   9 103]]\n",
            "\n",
            " Enter mobile features to predict its price range:\n",
            "Battery Power (mAh): 1900\n",
            "Bluetooth (1: Yes, 0: No): 1\n",
            "Clock Speed (GHz): 3\n",
            "Dual SIM (1: Yes, 0: No): 1\n",
            "Front Camera (MP): 15\n",
            "4G Support (1: Yes, 0: No): 1\n",
            "Internal Memory (GB): 64\n",
            "Mobile Depth (cm): 1.0\n",
            "Mobile Weight (g): 100\n",
            "No. of CPU Cores: 8\n",
            "Primary Camera (MP): 20\n",
            "Pixel Height: 1200\n",
            "Pixel Width: 2000\n",
            "RAM (MB): 3900\n",
            "Screen Height (cm): 15\n",
            "Screen Width (cm): 10\n",
            "Talk Time (hrs): 20\n",
            "3G Support (1: Yes, 0: No): 1\n",
            "Touch Screen (1: Yes, 0: No): 1\n",
            "WiFi Support (1: Yes, 0: No): 1\n"
          ]
        }
      ]
    },
    {
      "cell_type": "code",
      "source": [
        "#Output_Cell\n",
        "\n",
        "input_features = [[battery_power, blue, clock_speed, dual_sim, fc, four_g, int_memory, m_dep, mobile_wt,\n",
        "                   n_cores, pc, px_height, px_width, ram, sc_h, sc_w, talk_time, three_g, touch_screen, wifi]]\n",
        "input_scaled = scaler.transform(input_features)\n",
        "predicted_class = model.predict(input_scaled)[0]\n",
        "\n",
        "price_labels = [\"Low Cost\", \"Medium Cost\", \"High Cost\", \"Very High Cost\"]\n",
        "print(f\"\\n Predicted Mobile Price Range: {predicted_class} → {price_labels[predicted_class]}\")"
      ],
      "metadata": {
        "colab": {
          "base_uri": "https://localhost:8080/"
        },
        "id": "S7gKlKrjfYN7",
        "outputId": "f322a995-9eea-49fa-e13b-c1c1859fb557"
      },
      "execution_count": null,
      "outputs": [
        {
          "output_type": "stream",
          "name": "stdout",
          "text": [
            "\n",
            " Predicted Mobile Price Range: 3 → Very High Cost\n"
          ]
        },
        {
          "output_type": "stream",
          "name": "stderr",
          "text": [
            "/usr/local/lib/python3.11/dist-packages/sklearn/utils/validation.py:2739: UserWarning: X does not have valid feature names, but StandardScaler was fitted with feature names\n",
            "  warnings.warn(\n"
          ]
        }
      ]
    }
  ]
}